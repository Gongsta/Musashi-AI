{
 "cells": [
  {
   "cell_type": "code",
   "execution_count": 1,
   "metadata": {},
   "outputs": [],
   "source": [
    "import numpy as np\n",
    "import cv2\n",
    "import matplotlib.pyplot as plt\n",
    "%matplotlib inline\n",
    "import matplotlib.patches as patches\n",
    "from PIL import Image"
   ]
  },
  {
   "cell_type": "code",
   "execution_count": null,
   "metadata": {},
   "outputs": [],
   "source": [
    "##DEMO: \n",
    "#img = cv2.imread('') #unoccupied baseline\n",
    "#img1 = cv2.imread('') #unoccupied\n",
    "#img2 = cv2.imread('') #occupied"
   ]
  },
  {
   "cell_type": "code",
   "execution_count": null,
   "metadata": {},
   "outputs": [],
   "source": [
    "# gray_image = cv2.cvtColor(img, cv2.COLOR_BGR2GRAY)\n",
    "# blurred_img = cv2.GaussianBlur(gray_image,(5,5),3)\n",
    "# plt.imshow(blurred_img,cmap='gray')"
   ]
  },
  {
   "cell_type": "code",
   "execution_count": null,
   "metadata": {},
   "outputs": [],
   "source": [
    "# gray_image_1 = cv2.cvtColor(img1, cv2.COLOR_BGR2GRAY)\n",
    "# blurred_img_1 = cv2.GaussianBlur(gray_image_1,(5,5),3)\n",
    "# plt.imshow(blurred_img_1,cmap='gray')"
   ]
  },
  {
   "cell_type": "code",
   "execution_count": null,
   "metadata": {},
   "outputs": [],
   "source": [
    "# gray_image_2 = cv2.cvtColor(img2, cv2.COLOR_BGR2GRAY)\n",
    "# blurred_img_2 = cv2.GaussianBlur(gray_image_2,(5,5),3)\n",
    "# plt.imshow(blurred_img_2, cmap='gray')"
   ]
  },
  {
   "cell_type": "code",
   "execution_count": null,
   "metadata": {},
   "outputs": [],
   "source": [
    "# hist_values = cv2.calcHist([img],channels=[0],mask=None,histSize=[256],ranges=[0,256])"
   ]
  },
  {
   "cell_type": "code",
   "execution_count": null,
   "metadata": {},
   "outputs": [],
   "source": [
    "# hist_values_1 = cv2.calcHist([img1],channels=[0],mask=None,histSize=[256],ranges=[0,256])"
   ]
  },
  {
   "cell_type": "code",
   "execution_count": null,
   "metadata": {},
   "outputs": [],
   "source": [
    "# hist_values_2 = cv2.calcHist([img2],channels=[0],mask=None,histSize=[256],ranges=[0,256])"
   ]
  },
  {
   "cell_type": "code",
   "execution_count": null,
   "metadata": {},
   "outputs": [],
   "source": [
    "# plt.hist(hist_values, bins = 20)\n",
    "# plt.show()"
   ]
  },
  {
   "cell_type": "code",
   "execution_count": null,
   "metadata": {},
   "outputs": [],
   "source": [
    "# plt.hist(hist_values_1, bins = 20)\n",
    "# plt.show()"
   ]
  },
  {
   "cell_type": "code",
   "execution_count": null,
   "metadata": {},
   "outputs": [],
   "source": [
    "# plt.hist(hist_values_2, bins = 20)\n",
    "# plt.show()"
   ]
  },
  {
   "cell_type": "code",
   "execution_count": null,
   "metadata": {},
   "outputs": [],
   "source": [
    "# from scipy.stats import ks_2samp\n",
    "# import numpy as np\n",
    "# #compare non-occupied with occupied\n",
    "# ks_2samp(gray_image.ravel(), gray_image_1.ravel())"
   ]
  },
  {
   "cell_type": "code",
   "execution_count": null,
   "metadata": {},
   "outputs": [],
   "source": [
    "# #compare occupied with \n",
    "# ks_2samp(gray_image.ravel(), gray_image_2.ravel())"
   ]
  },
  {
   "cell_type": "code",
   "execution_count": 2,
   "metadata": {},
   "outputs": [],
   "source": [
    "roi1_norms=[]\n",
    "roi2_norms=[]\n",
    "roi3_norms=[]\n",
    "roi4_norms=[]\n",
    "roi5_norms=[]\n",
    "roi6_norms=[]"
   ]
  },
  {
   "cell_type": "code",
   "execution_count": 3,
   "metadata": {},
   "outputs": [],
   "source": [
    "def preprocess (imgs):\n",
    "    flattened_lst = []\n",
    "    for img in imgs:\n",
    "        gray_img = cv2.cvtColor(img, cv2.COLOR_BGR2GRAY)\n",
    "        blurred_img = cv2.GaussianBlur(gray_img,(5,5),3)\n",
    "        flattened_lst.append(blurred_img.ravel())\n",
    "    return flattened_lst"
   ]
  },
  {
   "cell_type": "code",
   "execution_count": 9,
   "metadata": {},
   "outputs": [
    {
     "name": "stdout",
     "output_type": "stream",
     "text": [
      "[array([146, 146, 145, ..., 152, 153, 153], dtype=uint8)]\n"
     ]
    }
   ],
   "source": [
    "img1_1 = cv2.imread('/Users/ct/Desktop/Musashi-AI/crops/roi0_frame_6819.jpg')\n",
    "roi1_norms = preprocess([img1_1])\n"
   ]
  },
  {
   "cell_type": "code",
   "execution_count": 11,
   "metadata": {},
   "outputs": [
    {
     "name": "stdout",
     "output_type": "stream",
     "text": [
      "[array([ 66,  65,  64, ..., 203, 203, 204], dtype=uint8), array([ 63,  62,  60, ..., 182, 183, 184], dtype=uint8), array([ 64,  63,  60, ..., 207, 209, 210], dtype=uint8)]\n"
     ]
    }
   ],
   "source": [
    "img2_1 = cv2.imread('/Users/ct/Desktop/Musashi-AI/crops/roi1_frame_171.jpg')\n",
    "img2_2 = cv2.imread('/Users/ct/Desktop/Musashi-AI/crops/roi1_frame_905.jpg')\n",
    "img2_3 = cv2.imread('/Users/ct/Desktop/Musashi-AI/crops/roi1_frame_1524.jpg')\n",
    "\n",
    "roi2_norms = preprocess([img2_1,img2_2,img2_3])"
   ]
  },
  {
   "cell_type": "code",
   "execution_count": 7,
   "metadata": {},
   "outputs": [
    {
     "name": "stdout",
     "output_type": "stream",
     "text": [
      "[array([101, 101, 103, ...,  65,  70,  71], dtype=uint8), array([105, 104, 105, ...,  67,  73,  75], dtype=uint8), array([106, 106, 107, ...,  65,  69,  70], dtype=uint8), array([ 99,  99, 100, ...,  62,  67,  69], dtype=uint8), array([98, 98, 98, ..., 63, 67, 68], dtype=uint8), array([94, 94, 95, ..., 62, 67, 68], dtype=uint8)]\n"
     ]
    }
   ],
   "source": [
    "img3_1 = cv2.imread('/Users/ct/Desktop/Musashi-AI/crops/roi2_frame_171.jpg')\n",
    "img3_2 = cv2.imread('/Users/ct/Desktop/Musashi-AI/crops/roi2_frame_1524.jpg')\n",
    "img3_3 = cv2.imread('/Users/ct/Desktop/Musashi-AI/crops/roi2_frame_3577.jpg')\n",
    "img3_4 = cv2.imread('/Users/ct/Desktop/Musashi-AI/crops/roi2_frame_6223.jpg')\n",
    "img3_5 = cv2.imread('/Users/ct/Desktop/Musashi-AI/crops/roi2_frame_6819.jpg')\n",
    "img3_6 = cv2.imread('/Users/ct/Desktop/Musashi-AI/crops/roi2_frame_12573.jpg')\n",
    "\n",
    "roi3_norms = preprocess([img3_1,img3_2,img3_3,img3_4,img3_5,img3_6])"
   ]
  },
  {
   "cell_type": "code",
   "execution_count": 12,
   "metadata": {},
   "outputs": [
    {
     "name": "stdout",
     "output_type": "stream",
     "text": [
      "[array([154, 153, 152, ..., 105, 103, 102], dtype=uint8), array([152, 152, 152, ..., 103, 103, 101], dtype=uint8), array([156, 155, 154, ..., 103, 101, 101], dtype=uint8)]\n"
     ]
    }
   ],
   "source": [
    "img4_1 = cv2.imread('/Users/ct/Desktop/Musashi-AI/crops/roi3_frame_12222.jpg')\n",
    "img4_2 = cv2.imread('/Users/ct/Desktop/Musashi-AI/crops/roi3_frame_12573.jpg')\n",
    "img4_3 = cv2.imread('/Users/ct/Desktop/Musashi-AI/crops/roi3_frame_12986.jpg')\n",
    "roi4_norms = preprocess([img4_1,img4_2,img4_3])"
   ]
  },
  {
   "cell_type": "code",
   "execution_count": 13,
   "metadata": {},
   "outputs": [
    {
     "name": "stdout",
     "output_type": "stream",
     "text": [
      "[array([171, 171, 172, ..., 162, 161, 162], dtype=uint8), array([165, 166, 168, ..., 157, 157, 157], dtype=uint8), array([167, 167, 168, ..., 158, 160, 160], dtype=uint8)]\n"
     ]
    }
   ],
   "source": [
    "img5_1 = cv2.imread('/Users/ct/Desktop/Musashi-AI/crops/roi4_frame_171.jpg')\n",
    "img5_2 = cv2.imread('/Users/ct/Desktop/Musashi-AI/crops/roi4_frame_10776.jpg')\n",
    "img5_3 = cv2.imread('/Users/ct/Desktop/Musashi-AI/crops/roi4_frame_12986.jpg')\n",
    "roi5_norms = preprocess([img5_1,img5_2,img5_3])"
   ]
  },
  {
   "cell_type": "code",
   "execution_count": 14,
   "metadata": {},
   "outputs": [
    {
     "name": "stdout",
     "output_type": "stream",
     "text": [
      "[array([123, 123, 122, ..., 126, 119, 118], dtype=uint8), array([118, 118, 119, ...,  80,  80,  82], dtype=uint8), array([116, 116, 116, ..., 117, 116, 115], dtype=uint8)]\n"
     ]
    }
   ],
   "source": [
    "img6_1 = cv2.imread('/Users/ct/Desktop/Musashi-AI/crops/roi5_frame_171.jpg')\n",
    "img6_2 = cv2.imread('/Users/ct/Desktop/Musashi-AI/crops/roi5_frame_2559.jpg')\n",
    "img6_3 = cv2.imread('/Users/ct/Desktop/Musashi-AI/crops/roi5_frame_12691.jpg')\n",
    "roi6_norms = preprocess([img6_1,img6_2,img6_3])"
   ]
  },
  {
   "cell_type": "code",
   "execution_count": 26,
   "metadata": {},
   "outputs": [],
   "source": [
    "def is_abnl (roi_norms, roi):\n",
    "    roi_distances = []\n",
    "    for roi_norm in roi_norms:\n",
    "        roi_distances.append(ks_2samp(roi.ravel(), roi1_norm))\n",
    "    if max(roi_distances) < 1e-5:\n",
    "        return True\n",
    "    else:\n",
    "        return False"
   ]
  },
  {
   "cell_type": "code",
   "execution_count": 27,
   "metadata": {},
   "outputs": [],
   "source": [
    "roi1_count = 0\n",
    "roi2_count = 0\n",
    "roi3_count = 0\n",
    "roi4_count = 0\n",
    "roi5_count = 0\n",
    "roi6_count = 0"
   ]
  },
  {
   "cell_type": "code",
   "execution_count": 29,
   "metadata": {},
   "outputs": [],
   "source": [
    "for img_path in img_paths:\n",
    "    roi1 = crop_image_to_ROI(img_path, roi=0)\n",
    "    if is_abn1(roi1_norms, roi1):\n",
    "        roi1_count+=1\n",
    "    roi2 = crop_image_to_ROI(img_path, roi=1)\n",
    "    if is_abn1(roi2_norms, roi2):\n",
    "        roi2_count+=1    \n",
    "    roi3 = crop_image_to_ROI(img_path, roi=2)\n",
    "    if is_abn1(roi3_norms, roi3):\n",
    "        roi3_count+=1\n",
    "    roi4 = crop_image_to_ROI(img_path, roi=3)\n",
    "    if is_abn1(roi4_norms, roi4):\n",
    "        roi4_count+=1    \n",
    "    roi5 = crop_image_to_ROI(img_path, roi=4)\n",
    "    if is_abn1(roi5_norms, roi5):\n",
    "        roi5_count+=1    \n",
    "    roi6 = crop_image_to_ROI(img_path, roi=5)\n",
    "    if is_abn1(roi6_norms, roi6):\n",
    "        roi6_count+=1"
   ]
  },
  {
   "cell_type": "code",
   "execution_count": 30,
   "metadata": {},
   "outputs": [
    {
     "name": "stdout",
     "output_type": "stream",
     "text": [
      "0 0 0 0 0 0\n"
     ]
    }
   ],
   "source": [
    "print(roi1_count,roi2_count,roi3_count,roi4_count,roi5_count,roi6_count)"
   ]
  },
  {
   "cell_type": "code",
   "execution_count": null,
   "metadata": {},
   "outputs": [],
   "source": []
  }
 ],
 "metadata": {
  "kernelspec": {
   "display_name": "Python 3",
   "language": "python",
   "name": "python3"
  },
  "language_info": {
   "codemirror_mode": {
    "name": "ipython",
    "version": 3
   },
   "file_extension": ".py",
   "mimetype": "text/x-python",
   "name": "python",
   "nbconvert_exporter": "python",
   "pygments_lexer": "ipython3",
   "version": "3.6.6"
  }
 },
 "nbformat": 4,
 "nbformat_minor": 2
}
