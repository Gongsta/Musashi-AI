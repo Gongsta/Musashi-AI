{
 "cells": [
  {
   "cell_type": "code",
   "execution_count": null,
   "metadata": {},
   "outputs": [],
   "source": [
    "# clone following repository: https://github.com/duanzhiihao/RAPiD.git and execute following cells\n",
    "# copy frames 900-999 to a frames directory\n",
    "\n",
    "!pip install pycocotools\n",
    "\n",
    "%matplotlib inline\n",
    "import matplotlib.pyplot as plt\n",
    "from PIL import Image\n",
    "\n",
    "from api import Detector"
   ]
  },
  {
   "cell_type": "code",
   "execution_count": null,
   "metadata": {},
   "outputs": [],
   "source": [
    "# create cropped images\n",
    "for i in range(100):\n",
    "    img = Image.open(f\"./frames/frame_{900+i}.jpg\")\n",
    "    width, height = img.size   # Get dimensions\n",
    "    left = width/4\n",
    "    top = height/4\n",
    "    right = 3 * width/4\n",
    "    bottom = 3 * height/4\n",
    "    cropped_example = img.crop((left, top, right, bottom))\n",
    "\n",
    "    cropped_example.save(f'cropped_frames/cropped_frame_{i}.jpg')\n"
   ]
  },
  {
   "cell_type": "code",
   "execution_count": null,
   "metadata": {},
   "outputs": [],
   "source": [
    "# weights can be downloaded from\n",
    "# https://github.com/duanzhiihao/RAPiD/releases/download/v0.1/pL1_MWHB608_Mar11_4500.ckpt\n",
    "detector = Detector(model_name='rapid',\n",
    "                    weights_path='./weights/pL1_MWHB608_Mar11_4500.ckpt',\n",
    "                    use_cuda=True)"
   ]
  },
  {
   "cell_type": "code",
   "execution_count": null,
   "metadata": {},
   "outputs": [],
   "source": [
    "img_path = 'cropped_frames'\n",
    "im = detector.detect_imgSeq(img_dir=img_path, return_img=True,\n",
    "                         input_size=1024, conf_thres=0.3, test_aug=None, )\n",
    "type(im)"
   ]
  }
 ],
 "metadata": {
  "kernelspec": {
   "display_name": "Python 3.8.8 ('base')",
   "language": "python",
   "name": "python3"
  },
  "language_info": {
   "name": "python",
   "version": "3.8.8"
  },
  "orig_nbformat": 4,
  "vscode": {
   "interpreter": {
    "hash": "6eeeee56d3170524bfc383b6f7d75590f87ed5a4383960e37fffb20f636790c1"
   }
  }
 },
 "nbformat": 4,
 "nbformat_minor": 2
}
